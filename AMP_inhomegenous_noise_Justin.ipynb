{
 "cells": [
  {
   "cell_type": "code",
   "execution_count": 510,
   "id": "b11e198f-4d3d-4461-8077-485cfc8481c2",
   "metadata": {
    "id": "b11e198f-4d3d-4461-8077-485cfc8481c2"
   },
   "outputs": [],
   "source": [
    "import numpy as np\n",
    "import scipy.integrate as integrate\n",
    "import matplotlib.pyplot as plt\n",
    "from numpy import sqrt, sin, cos, pi, cosh, sinh, tanh, exp, linalg, log\n",
    "from sympy import symbols, solve\n",
    "import math\n",
    "from  scipy.sparse.linalg import eigsh"
   ]
  },
  {
   "cell_type": "markdown",
   "id": "2b5fc0f7",
   "metadata": {
    "id": "2b5fc0f7"
   },
   "source": [
    "Let us write a function which creates a matrix consisting of two blocks with prescribed values(later we will write a general with k blocks)"
   ]
  },
  {
   "cell_type": "code",
   "execution_count": 511,
   "id": "e4dfe32f",
   "metadata": {
    "id": "e4dfe32f"
   },
   "outputs": [],
   "source": [
    "def create_two_blocks(dimension, size1, value11, value12, value22): \n",
    "    #Returns a symmetric matrix consisting of two blocks with prescribed values \n",
    "    delta = np.zeros((dimension, dimension))\n",
    "    delta[:size1, :size1] = value11\n",
    "    delta[size1:, :size1] = value12\n",
    "    delta[:size1, size1:] = value12\n",
    "    delta[size1:, size1:] = value22\n",
    "    return delta"
   ]
  },
  {
   "cell_type": "code",
   "execution_count": 512,
   "id": "5601165c",
   "metadata": {
    "colab": {
     "base_uri": "https://localhost:8080/"
    },
    "id": "5601165c",
    "outputId": "d0c0ad36-89d3-4760-f4d5-af373981fb28"
   },
   "outputs": [
    {
     "data": {
      "text/plain": [
       "array([[1., 1., 1., 1., 3., 3., 3., 3., 3., 3.],\n",
       "       [1., 1., 1., 1., 3., 3., 3., 3., 3., 3.],\n",
       "       [1., 1., 1., 1., 3., 3., 3., 3., 3., 3.],\n",
       "       [1., 1., 1., 1., 3., 3., 3., 3., 3., 3.],\n",
       "       [3., 3., 3., 3., 5., 5., 5., 5., 5., 5.],\n",
       "       [3., 3., 3., 3., 5., 5., 5., 5., 5., 5.],\n",
       "       [3., 3., 3., 3., 5., 5., 5., 5., 5., 5.],\n",
       "       [3., 3., 3., 3., 5., 5., 5., 5., 5., 5.],\n",
       "       [3., 3., 3., 3., 5., 5., 5., 5., 5., 5.],\n",
       "       [3., 3., 3., 3., 5., 5., 5., 5., 5., 5.]])"
      ]
     },
     "execution_count": 512,
     "metadata": {},
     "output_type": "execute_result"
    }
   ],
   "source": [
    "create_two_blocks(10, 4, 1, 3, 5)"
   ]
  },
  {
   "cell_type": "markdown",
   "id": "35638f93",
   "metadata": {
    "id": "35638f93"
   },
   "source": [
    "### Instance of the problem"
   ]
  },
  {
   "cell_type": "markdown",
   "id": "a36e5f69",
   "metadata": {
    "id": "a36e5f69"
   },
   "source": [
    "Let us generate an instance of the problem with inhomogenous noise (delta instead of snr)"
   ]
  },
  {
   "cell_type": "code",
   "execution_count": 513,
   "id": "250d6016",
   "metadata": {
    "id": "250d6016"
   },
   "outputs": [],
   "source": [
    "def get_instance(dimension, prior, delta):\n",
    "    #Returns a ground truth vector and the matrix corrupted by a gaussian noise according to the model\n",
    "    if prior == 'gaussian':\n",
    "        true_vector = np.random.normal(0,1, (dimension,1))       \n",
    "    elif prior == 'radamacher':\n",
    "        true_vector = np.random.choice([-1,1], size=(dimension, 1))\n",
    "        \n",
    "    noise = np.triu(np.random.normal(0, 1, (dimension,dimension)))\n",
    "    noise = noise + noise.T + np.diag(np.random.normal(0,1, dimension))\n",
    "    \n",
    "    corrupted_matrix = np.sqrt(1 / dimension) * true_vector @ true_vector.T + noise * delta\n",
    "\n",
    "    return true_vector, corrupted_matrix"
   ]
  },
  {
   "cell_type": "code",
   "execution_count": 514,
   "id": "f9d6eac4",
   "metadata": {
    "colab": {
     "base_uri": "https://localhost:8080/",
     "height": 267
    },
    "id": "f9d6eac4",
    "outputId": "f78436f5-aaab-40fd-bee2-caf5c7ed1d39"
   },
   "outputs": [
    {
     "data": {
      "image/png": "[encoded data removed]",
      "text/plain": [
       "<Figure size 432x288 with 1 Axes>"
      ]
     },
     "metadata": {
      "needs_background": "light"
     },
     "output_type": "display_data"
    }
   ],
   "source": [
    "delta = create_two_blocks(dimension = 50, size1 = 30, value11 = 1, value12 = 1, value22 = 8)\n",
    "Y = get_instance(dimension = 50, prior = 'gaussian', delta = delta)[1]\n",
    "plt.imshow(Y, interpolation = 'none')\n",
    "plt.show()"
   ]
  },
  {
   "cell_type": "markdown",
   "id": "40d81bd0",
   "metadata": {
    "id": "40d81bd0"
   },
   "source": [
    "The plot above clearly illustrates the presence of two communities in the generated instance. In the first community the variance is 1 and the color is quite uniform, whereas in the second the variance is 8 and the color varies wildly across different nodes from the same community."
   ]
  },
  {
   "cell_type": "markdown",
   "id": "38e8e4b3",
   "metadata": {
    "id": "38e8e4b3"
   },
   "source": [
    "Let us now implement AMP for the inhomegenous noise "
   ]
  },
  {
   "cell_type": "code",
   "execution_count": 515,
   "id": "9089e89e",
   "metadata": {
    "id": "9089e89e"
   },
   "outputs": [],
   "source": [
    "def damp(new, old, damping=0.75):\n",
    "    return damping * old + (1-damping) * new\n",
    "\n",
    "def iterate_amp(precision = 1e-5, max_steps = 100, *, init, prior, Y, delta):\n",
    "    \n",
    "    N = Y.shape[0]\n",
    "    \n",
    "    estimator = init\n",
    "    previous_estimator = np.copy(init)\n",
    "    derivative = np.zeros(N) \n",
    "    \n",
    "    converged = False\n",
    "    \n",
    "    a_previous = 0\n",
    "    b_previous = np.zeros(N)\n",
    "    #parameters of the integral calculating the Bayesian-optimal denoising\n",
    "    \n",
    "    for timestep in range(max_steps):   \n",
    "        snr = [np.mean (estimator**2) / np.mean((delta[j] * estimator)**2) for j in range(N)]\n",
    "        Onsager_term = [np.mean (delta[j]**2 * derivative) for j in range(N)]\n",
    "        snr = np.array(snr)\n",
    "        Onsager_term = np.array(Onsager_term)\n",
    "        \n",
    "        next_step = np.sqrt(1 / N) * Y.T @ estimator - Onsager_term * previous_estimator\n",
    "        a = snr * np.mean(estimator**2) \n",
    "        b = snr * next_step\n",
    "        \n",
    "        if timestep != 0:\n",
    "            a = damp(a, a_previous)\n",
    "            b = damp(b, b_previous)\n",
    "            \n",
    "        previous_estimator = estimator\n",
    "        estimator, derivative = denoiser_and_derivative(b, a, prior = prior)\n",
    "        derivative *= snr\n",
    "        \n",
    "        step_difference = np.mean((estimator-previous_estimator)**2)\n",
    "        a_previous = np.copy(a)\n",
    "        b_previous = np.copy(b)\n",
    "        \n",
    "        if (timestep > 2) and (step_difference < precision):\n",
    "            converged = True\n",
    "            break\n",
    "            \n",
    "    if not converged:\n",
    "        print(\"AMP didn't converge!\")\n",
    "    \n",
    "    return estimator"
   ]
  },
  {
   "cell_type": "markdown",
   "id": "3d5b96bb",
   "metadata": {
    "id": "3d5b96bb"
   },
   "source": [
    "Now we implement the denoiser functions. Note that with inhomegenous noise both parameters b and a are vectors"
   ]
  },
  {
   "cell_type": "code",
   "execution_count": 516,
   "id": "995ceee6",
   "metadata": {
    "id": "995ceee6"
   },
   "outputs": [],
   "source": [
    "def denoiser_and_derivative(b, a, *, prior):\n",
    "    if(prior == 'gaussian'):\n",
    "        return b/(1+a), 1/(1+a) \n",
    "    elif prior == 'radamacher':\n",
    "        return np.tanh(b), 1-np.tanh(b)**2"
   ]
  },
  {
   "cell_type": "markdown",
   "id": "37b5cf45",
   "metadata": {
    "id": "37b5cf45"
   },
   "source": [
    "We now calculate the average performance of AMP over several runs"
   ]
  },
  {
   "cell_type": "code",
   "execution_count": 517,
   "id": "e94c9c16",
   "metadata": {
    "id": "e94c9c16"
   },
   "outputs": [],
   "source": [
    "def get_mse(truth, estimate):\n",
    "    first_possibility = np.mean((truth - estimate)**2)\n",
    "    second_possibility = np.mean((truth + estimate)**2)\n",
    "    return min(first_possibility, second_possibility) #It is impossible to learn the sign\n",
    "\n",
    "def get_averaged_performance(seeds, dimension, initialisation = 'uninformed', *, prior, delta):\n",
    "    mse = []\n",
    "    N = dimension\n",
    "    for _ in range(seeds):\n",
    "        init = 1e-3 * np.random.normal(0,1,(N,1)) # default initialisation is uninformed\n",
    "        # Generate an instance\n",
    "        truth, Y = get_instance(dimension = dimension, \n",
    "                             prior = prior, \n",
    "                             delta = delta)\n",
    "        \n",
    "        # In informed initialisation start close to signal\n",
    "        if initialisation == 'informed':\n",
    "            init += truth \n",
    "        elif initialisation == 'spectral':\n",
    "            _, init = np.linalg.eigh(Y)[N-1]\n",
    "            init *= np.sqrt(len(truth))\n",
    "        estimate = iterate_amp(init = init, \n",
    "                                 prior = prior, \n",
    "                                 Y = Y, \n",
    "                                 delta = delta)\n",
    "        mse.append(get_mse(truth, estimate))\n",
    "        \n",
    "    return np.mean(mse)"
   ]
  },
  {
   "cell_type": "code",
   "execution_count": 518,
   "id": "c8a3ac28",
   "metadata": {
    "id": "c8a3ac28"
   },
   "outputs": [],
   "source": [
    "def data_amp(seeds, dimension, initialisation = 'uninformed', *, delta_collection, prior):\n",
    "    \n",
    "    data = {'parameter': [], 'mse': []}\n",
    "    for delta in delta_collection:\n",
    "        parameter = delta[0][0]\n",
    "        print(\"Computing with parameter = {}\".format(parameter))\n",
    "        \n",
    "        mse = get_averaged_performance(seeds = seeds,dimension = dimension, \n",
    "                                            initialisation = initialisation, \n",
    "                                            prior = prior, \n",
    "                                            delta = delta)\n",
    "        \n",
    "        data['parameter'].append(parameter)\n",
    "        data['mse'].append(mse)\n",
    "\n",
    "    return data"
   ]
  },
  {
   "cell_type": "code",
   "execution_count": 519,
   "id": "909e8ec2",
   "metadata": {
    "id": "909e8ec2"
   },
   "outputs": [],
   "source": [
    "def create_two_blocks_collection(dimension, *, start, end, points, first_size, diag_scalar):\n",
    "    N = dimension\n",
    "    parameter_range = np.linspace(start, end, points)\n",
    "    delta_collection = []\n",
    "    for parameter in parameter_range:\n",
    "        delta_collection.append(create_two_blocks(N, first_size, parameter, parameter, diag_scalar * parameter))\n",
    "    return np.array(delta_collection)\n"
   ]
  },
  {
   "cell_type": "markdown",
   "id": "vQQVwujS5_xX",
   "metadata": {
    "id": "vQQVwujS5_xX"
   },
   "source": [
    "Code to solve the variational problem"
   ]
  },
  {
   "cell_type": "code",
   "execution_count": 520,
   "id": "md4MoGX454zf",
   "metadata": {
    "id": "md4MoGX454zf"
   },
   "outputs": [],
   "source": [
    "def ExpectGibbs(qtilde):\n",
    "  return 1 - 1/(qtilde + 1)\n",
    "\n",
    "def iterate(Qtilde1,Qtilde2,rho1,rho2,Delta_11,Delta_12,Delta_22,damping = 0.2):\n",
    "  term1 =  ExpectGibbs(Qtilde1)\n",
    "  term2 = ExpectGibbs(Qtilde2)\n",
    "  newQtilde1 = (rho1/Delta_11**2) * term1 + (rho2/Delta_12**2) * term2\n",
    "  newQtilde2 = (rho1/Delta_12**2) * term1 + (rho2/Delta_22**2) * term2\n",
    "  return (1-damping)*newQtilde1 + damping*Qtilde1, (1-damping)*newQtilde2 + damping*Qtilde2, np.sqrt((newQtilde1-Qtilde1)**2 + (newQtilde2-Qtilde2)**2)\n",
    "\n",
    "def Solve_Q(Qtilde1,Qtilde2,rho1,rho2,Delta_11,Delta_12,Delta_22):\n",
    "    convergence = 1000\n",
    "    while (convergence > 1e-6):\n",
    "        for t in range(100):\n",
    "            Qtilde1, Qtilde2, convergence = iterate(Qtilde1,Qtilde2, rho1, rho2, Delta_11, Delta_12, Delta_22)\n",
    "        \n",
    "    return Qtilde1, Qtilde2"
   ]
  },
  {
   "cell_type": "code",
   "execution_count": 521,
   "id": "dsXro6n39cv2",
   "metadata": {
    "id": "dsXro6n39cv2"
   },
   "outputs": [],
   "source": [
    "def visualize (data_amp, data_optimal):\n",
    "    fig, ax = plt.subplots(figsize=(12,10))\n",
    "    plt.plot(data_optimal['parameter'], data_optimal['mse'], \n",
    "         '-y', label='Optimal', color='blue')\n",
    "    plt.plot(data_amp['parameter'], data_amp['mse'], \n",
    "         '.', label='AMP', color='red')\n",
    "    plt.xlabel('param')\n",
    "    plt.ylabel('mse')\n",
    "    plt.legend()"
   ]
  },
  {
   "cell_type": "markdown",
   "id": "tTL_Kxbq9gPW",
   "metadata": {
    "id": "tTL_Kxbq9gPW"
   },
   "source": [
    "Generating the MMSE"
   ]
  },
  {
   "cell_type": "code",
   "execution_count": 522,
   "id": "Ozx-2Xqp5-pn",
   "metadata": {
    "id": "Ozx-2Xqp5-pn"
   },
   "outputs": [],
   "source": [
    "def optimal_curve(start, end, points, diag_scalar):\n",
    "\n",
    "    rho1, rho2 = 0.5, 0.5\n",
    "\n",
    "    MMSEVec = []\n",
    "    paramvec = []\n",
    "\n",
    "    param_range = np.linspace(start, end, points)\n",
    "\n",
    "    for param in param_range:\n",
    "      Delta11 = param\n",
    "      Delta12 = param\n",
    "      Delta22 = (diag_scalar*param)\n",
    "    \n",
    "      Qtilde1 = 1\n",
    "      Qtilde2 = 1\n",
    "    \n",
    "      Qtilde1, Qtilde2 = Solve_Q(Qtilde1, Qtilde2, rho1, rho2, Delta11, Delta12, Delta22)\n",
    "      MMSEVec.append(1 - np.sqrt(rho1**2 * ExpectGibbs(Qtilde1)**2 + \n",
    "                           2 * rho1 * rho2 *  ExpectGibbs(Qtilde1) * ExpectGibbs(Qtilde2) + \n",
    "                           rho2**2 * ExpectGibbs(Qtilde2)**2))\n",
    "      paramvec.append(param)\n",
    "    \n",
    "    return {'parameter': paramvec, 'mse': MMSEVec}\n"
   ]
  },
  {
   "cell_type": "code",
   "execution_count": 523,
   "id": "gWxxwo_K8rkm",
   "metadata": {
    "colab": {
     "base_uri": "https://localhost:8080/",
     "height": 1000
    },
    "id": "gWxxwo_K8rkm",
    "outputId": "dab8a124-96ec-4c69-94cf-f3b6288c7960"
   },
   "outputs": [
    {
     "name": "stdout",
     "output_type": "stream",
     "text": [
      "Computing with parameter = 0.05\n",
      "Computing with parameter = 0.0816326530612245\n",
      "Computing with parameter = 0.11326530612244898\n",
      "Computing with parameter = 0.14489795918367349\n",
      "Computing with parameter = 0.17653061224489797\n",
      "Computing with parameter = 0.20816326530612245\n",
      "Computing with parameter = 0.23979591836734693\n",
      "Computing with parameter = 0.2714285714285714\n",
      "Computing with parameter = 0.3030612244897959\n",
      "Computing with parameter = 0.33469387755102037\n",
      "Computing with parameter = 0.36632653061224485\n",
      "Computing with parameter = 0.39795918367346933\n",
      "AMP didn't converge!\n",
      "Computing with parameter = 0.42959183673469387\n",
      "AMP didn't converge!\n",
      "Computing with parameter = 0.46122448979591835\n",
      "Computing with parameter = 0.4928571428571428\n",
      "Computing with parameter = 0.5244897959183673\n",
      "Computing with parameter = 0.5561224489795918\n",
      "Computing with parameter = 0.5877551020408164\n",
      "Computing with parameter = 0.6193877551020408\n",
      "Computing with parameter = 0.6510204081632653\n",
      "Computing with parameter = 0.6826530612244898\n",
      "Computing with parameter = 0.7142857142857143\n",
      "Computing with parameter = 0.7459183673469387\n",
      "Computing with parameter = 0.7775510204081633\n",
      "Computing with parameter = 0.8091836734693878\n",
      "Computing with parameter = 0.8408163265306122\n",
      "Computing with parameter = 0.8724489795918368\n",
      "Computing with parameter = 0.9040816326530612\n",
      "Computing with parameter = 0.9357142857142857\n",
      "Computing with parameter = 0.9673469387755101\n",
      "Computing with parameter = 0.9989795918367347\n",
      "Computing with parameter = 1.030612244897959\n",
      "Computing with parameter = 1.0622448979591836\n",
      "Computing with parameter = 1.0938775510204082\n",
      "Computing with parameter = 1.1255102040816327\n",
      "Computing with parameter = 1.157142857142857\n",
      "Computing with parameter = 1.1887755102040816\n",
      "Computing with parameter = 1.220408163265306\n",
      "Computing with parameter = 1.2520408163265306\n",
      "Computing with parameter = 1.283673469387755\n",
      "Computing with parameter = 1.3153061224489795\n",
      "Computing with parameter = 1.346938775510204\n",
      "Computing with parameter = 1.3785714285714286\n",
      "Computing with parameter = 1.410204081632653\n",
      "Computing with parameter = 1.4418367346938774\n",
      "Computing with parameter = 1.473469387755102\n",
      "Computing with parameter = 1.5051020408163265\n",
      "Computing with parameter = 1.536734693877551\n",
      "Computing with parameter = 1.5683673469387756\n",
      "Computing with parameter = 1.6\n"
     ]
    },
    {
     "data": {
      "image/png": "[encoded data removed]",
      "text/plain": [
       "<Figure size 864x720 with 1 Axes>"
      ]
     },
     "metadata": {
      "needs_background": "light"
     },
     "output_type": "display_data"
    }
   ],
   "source": [
    "dimension = 100\n",
    "start = 0.05\n",
    "end = 1.6\n",
    "points = 50\n",
    "delta_collection = create_two_blocks_collection(dimension = dimension, start = start, end = end, points = points, \n",
    "                                         first_size = dimension//2, diag_scalar = 0.9)\n",
    "gaussian_prior = data_amp(initialisation = 'uninformed', seeds = 7, dimension = dimension,\n",
    "                                   delta_collection = delta_collection, prior = 'gaussian')\n",
    "visualize(data_amp = gaussian_prior, data_optimal = \n",
    "          optimal_curve(start = start, end = end, points = 1000, diag_scalar = 0.9))"
   ]
  }
 ],
 "metadata": {
  "colab": {
   "collapsed_sections": [],
   "name": "AMP inhomegenous noise (1).ipynb",
   "provenance": []
  },
  "kernelspec": {
   "display_name": "Python 3",
   "language": "python",
   "name": "python3"
  }
 },
 "nbformat": 4,
 "nbformat_minor": 5
}

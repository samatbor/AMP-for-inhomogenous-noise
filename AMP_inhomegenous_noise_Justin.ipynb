{
  "cells": [
    {
      "cell_type": "code",
      "execution_count": 67,
      "id": "b11e198f-4d3d-4461-8077-485cfc8481c2",
      "metadata": {
        "id": "b11e198f-4d3d-4461-8077-485cfc8481c2"
      },
      "outputs": [],
      "source": [
        "%matplotlib inline \n",
        "import numpy as np\n",
        "import scipy.integrate as integrate\n",
        "import matplotlib.pyplot as plt\n",
        "from numpy import sqrt, sin, cos, pi, cosh, sinh, tanh, exp, linalg, log\n",
        "from sympy import symbols, solve\n",
        "import math\n",
        "from  scipy.sparse.linalg import eigsh"
      ]
    },
    {
      "cell_type": "markdown",
      "id": "2b5fc0f7",
      "metadata": {
        "id": "2b5fc0f7"
      },
      "source": [
        "Let us write a function which creates a matrix consisting of two blocks with prescribed values(later we will write a general with k blocks)"
      ]
    },
    {
      "cell_type": "code",
      "execution_count": 68,
      "id": "e4dfe32f",
      "metadata": {
        "id": "e4dfe32f"
      },
      "outputs": [],
      "source": [
        "def delta_two_blocks(dimension, size1, value11, value12, value22):\n",
        "    delta = np.zeros((dimension, dimension))\n",
        "    delta[:size1, :size1] = value11\n",
        "    delta[size1:, :size1] = value12\n",
        "    delta[:size1, size1:] = value12\n",
        "    delta[size1:, size1:] = value22\n",
        "    return delta"
      ]
    },
    {
      "cell_type": "code",
      "execution_count": 69,
      "id": "5601165c",
      "metadata": {
        "colab": {
          "base_uri": "https://localhost:8080/"
        },
        "id": "5601165c",
        "outputId": "5d4382c8-f61e-4cc4-f47f-f95b5dadc235"
      },
      "outputs": [
        {
          "output_type": "execute_result",
          "data": {
            "text/plain": [
              "array([[1., 1., 1., 1., 3., 3., 3., 3., 3., 3.],\n",
              "       [1., 1., 1., 1., 3., 3., 3., 3., 3., 3.],\n",
              "       [1., 1., 1., 1., 3., 3., 3., 3., 3., 3.],\n",
              "       [1., 1., 1., 1., 3., 3., 3., 3., 3., 3.],\n",
              "       [3., 3., 3., 3., 5., 5., 5., 5., 5., 5.],\n",
              "       [3., 3., 3., 3., 5., 5., 5., 5., 5., 5.],\n",
              "       [3., 3., 3., 3., 5., 5., 5., 5., 5., 5.],\n",
              "       [3., 3., 3., 3., 5., 5., 5., 5., 5., 5.],\n",
              "       [3., 3., 3., 3., 5., 5., 5., 5., 5., 5.],\n",
              "       [3., 3., 3., 3., 5., 5., 5., 5., 5., 5.]])"
            ]
          },
          "metadata": {},
          "execution_count": 69
        }
      ],
      "source": [
        "delta_two_blocks(10, 4, 1, 3, 5)"
      ]
    },
    {
      "cell_type": "markdown",
      "id": "35638f93",
      "metadata": {
        "id": "35638f93"
      },
      "source": [
        "### Instance of the problem"
      ]
    },
    {
      "cell_type": "markdown",
      "id": "a36e5f69",
      "metadata": {
        "id": "a36e5f69"
      },
      "source": [
        "Let us generate an instance of the problem with inhomogenous noise (delta instead of snr)"
      ]
    },
    {
      "cell_type": "code",
      "execution_count": 70,
      "id": "250d6016",
      "metadata": {
        "id": "250d6016"
      },
      "outputs": [],
      "source": [
        "def get_instance(dimension = 1000, *, prior, delta):\n",
        "    if prior =='gaussian':\n",
        "        x0 = np.random.normal(0,1, (dimension,1))       \n",
        "    elif prior == 'radamacher':\n",
        "        x0 = np.random.choice([-1,1], size=(dimension, 1))\n",
        "        \n",
        "    noise = np.triu(np.random.normal(0, 1, (dimension,dimension)))\n",
        "    noise = noise + noise.T + np.diag(np.random.normal(0,1, dimension))\n",
        "    \n",
        "    Y = np.sqrt(1 / dimension) * x0 @ x0.T + noise * delta\n",
        "\n",
        "    return x0, Y"
      ]
    },
    {
      "cell_type": "code",
      "execution_count": 71,
      "id": "f9d6eac4",
      "metadata": {
        "colab": {
          "base_uri": "https://localhost:8080/",
          "height": 267
        },
        "id": "f9d6eac4",
        "outputId": "cc1f6b11-605a-4818-8a31-5ff6a1c063f3"
      },
      "outputs": [
        {
          "output_type": "display_data",
          "data": {
            "text/plain": [
              "<Figure size 432x288 with 1 Axes>"
            ],
            "image/png": "[encoded data removed]"
          },
          "metadata": {
            "needs_background": "light"
          }
        }
      ],
      "source": [
        "delta = delta_two_blocks(dimension = 50, size1 = 30, value11 = 1, value12 = 1, value22 = 8)\n",
        "Y = get_instance(dimension = 50, prior = 'gaussian', delta = delta)[1]\n",
        "plt.imshow(Y, interpolation = 'none')\n",
        "plt.show()"
      ]
    },
    {
      "cell_type": "markdown",
      "id": "40d81bd0",
      "metadata": {
        "id": "40d81bd0"
      },
      "source": [
        "The plot above clearly illustrates the presence of two communities in the generated instance. In the first community the variance is 1 and the color is quite uniform, whereas in the second the variance is 8 and the color varies wildly across different nodes from the same community."
      ]
    },
    {
      "cell_type": "markdown",
      "id": "38e8e4b3",
      "metadata": {
        "id": "38e8e4b3"
      },
      "source": [
        "Let us now implement AMP for the inhomegenous noise "
      ]
    },
    {
      "cell_type": "code",
      "execution_count": 72,
      "id": "9089e89e",
      "metadata": {
        "id": "9089e89e"
      },
      "outputs": [],
      "source": [
        "def damp(new, old, damping=0.85):\n",
        "    return damping * old + (1-damping) * new\n",
        "\n",
        "def iterate_amp(tol = 1e-5, max_steps = 100, *, init, prior, Y, delta):\n",
        "    \n",
        "    N = Y.shape[0]\n",
        "    \n",
        "    xhat_old = np.zeros(N)\n",
        "    xhat = np.copy(init)\n",
        "    sigma = np.zeros(N) # Onsager\n",
        "    \n",
        "    converged = False\n",
        "    \n",
        "    a_old, b_old = 0., np.zeros(N) #parameters of the integral calculating the Bayesian-optimal denoising\n",
        "    \n",
        "    for t in range(max_steps):   \n",
        "        snr = np.array([np.mean(xhat**2) / np.mean((delta[j] * xhat)**2) for j in range(N)])\n",
        "        Onsager = np.array([np.mean(delta[j]**2 * sigma) for j in range(N)]) \n",
        "        \n",
        "        b_tmp = snr * (np.sqrt(1 / N) * Y.T @ xhat - Onsager * xhat_old)\n",
        "        a_tmp = snr * np.mean(xhat**2) \n",
        "        \n",
        "        if t == 0: \n",
        "            a = a_tmp \n",
        "            b = b_tmp\n",
        "        else:\n",
        "            a = damp(a_tmp, a_old)\n",
        "            b = damp(b_tmp, b_old)\n",
        "            \n",
        "        xhat_old = xhat\n",
        "        xhat, sigma = denoiser(b, a, prior=prior)\n",
        "        \n",
        "        diff = np.mean((xhat-xhat_old)**2)\n",
        "        a_old, b_old = np.copy(a), np.copy(b)\n",
        "        \n",
        "        if (t>2) and (diff < tol):\n",
        "            converged = True\n",
        "            break\n",
        "            \n",
        "    if not converged:\n",
        "        print(\"AMP didn't converge!\")\n",
        "    \n",
        "    return xhat"
      ]
    },
    {
      "cell_type": "markdown",
      "id": "3d5b96bb",
      "metadata": {
        "id": "3d5b96bb"
      },
      "source": [
        "Now we implement the denoiser functions. Note that with inhomegenous noise both parameters b and a are vectors"
      ]
    },
    {
      "cell_type": "code",
      "execution_count": 73,
      "id": "995ceee6",
      "metadata": {
        "id": "995ceee6"
      },
      "outputs": [],
      "source": [
        "def denoiser (b, a, *, prior):\n",
        "    if(prior == 'gaussian'):\n",
        "        return b/(1+a), 1/(1+a) \n",
        "    elif prior == 'radamacher':\n",
        "        return np.tanh(b), 1-np.tanh(b)**2"
      ]
    },
    {
      "cell_type": "markdown",
      "id": "37b5cf45",
      "metadata": {
        "id": "37b5cf45"
      },
      "source": [
        "We now calculate the average performance of AMP over several runs"
      ]
    },
    {
      "cell_type": "code",
      "execution_count": 74,
      "id": "e94c9c16",
      "metadata": {
        "id": "e94c9c16"
      },
      "outputs": [],
      "source": [
        "def get_mse(x0,xhat):\n",
        "    return np.min([np.mean((x0-xhat)**2), np.mean((x0+xhat)**2)]) #It is impossible to learn the sign\n",
        "\n",
        "def averaged_performance(seeds=10, dimension=1000, \n",
        "                         initialisation='uninformed', *, prior, delta):\n",
        "    mse = []\n",
        "    N = dimension\n",
        "    for _ in range(seeds):\n",
        "        init = 1e-3 * np.random.normal(0,1,(N,1)) # default initialisation is uninformed\n",
        "        # Generate an instance\n",
        "        x0, Y = get_instance(dimension=dimension, \n",
        "                             prior=prior, \n",
        "                             delta = delta)\n",
        "        \n",
        "        # In informed initialisation start close to signal\n",
        "        if initialisation == 'informed':\n",
        "            init += x0 \n",
        "        elif initialisation == 'spectral':\n",
        "            _, init = eigh(Y, subset_by_index=[N-1,N-1])\n",
        "            init *= np.sqrt(len(x0))\n",
        "        xhat = iterate_amp(init=init, \n",
        "                                 prior=prior, \n",
        "                                 Y=Y, \n",
        "                                 delta = delta)\n",
        "        mse.append(get_mse(x0,xhat))\n",
        "        \n",
        "    return np.mean(mse)"
      ]
    },
    {
      "cell_type": "code",
      "execution_count": 75,
      "id": "c8a3ac28",
      "metadata": {
        "id": "c8a3ac28"
      },
      "outputs": [],
      "source": [
        "def parameter_curve(initialisation='uninformed', seeds=10, dimension=1000, *, delta_collection, prior):\n",
        "    \n",
        "    data = {'param': [], 'mse': []}\n",
        "    for delta in delta_collection:\n",
        "        param = delta[0][0]\n",
        "        print(\"Computing with parameter = {}\".format(param))\n",
        "        \n",
        "        mse = averaged_performance(seeds=seeds,dimension=dimension, \n",
        "                                            initialisation=initialisation, \n",
        "                                            prior=prior, \n",
        "                                            delta = delta)\n",
        "        \n",
        "        data['param'].append(param)\n",
        "        data['mse'].append(mse)\n",
        "\n",
        "    return data"
      ]
    },
    {
      "cell_type": "code",
      "execution_count": 76,
      "id": "909e8ec2",
      "metadata": {
        "id": "909e8ec2"
      },
      "outputs": [],
      "source": [
        "def two_blocks_collection(dimension,*, start, end, points, first_size,diag_scalar):\n",
        "    N = dimension\n",
        "    param_range = np.linspace(start, end, points)\n",
        "    delta_collection = []\n",
        "    for param in param_range:\n",
        "        delta_collection.append(delta_two_blocks(N, first_size, param, param, diag_scalar * param))\n",
        "    return np.array(delta_collection)\n"
      ]
    },
    {
      "cell_type": "code",
      "execution_count": 77,
      "id": "2e080600",
      "metadata": {
        "id": "2e080600"
      },
      "outputs": [],
      "source": [
        "def visualize (data):\n",
        "    fig, ax = plt.subplots(figsize=(7,5))\n",
        "    plt.plot(data['param'], data['mse'], \n",
        "         '.', label='AMP', color='red')\n",
        "    plt.xlabel('param')\n",
        "    plt.ylabel('mse')\n",
        "    plt.legend()\n",
        "    "
      ]
    },
    {
      "cell_type": "markdown",
      "id": "vQQVwujS5_xX",
      "metadata": {
        "id": "vQQVwujS5_xX"
      },
      "source": [
        "Code to solve the variational problem"
      ]
    },
    {
      "cell_type": "code",
      "execution_count": 78,
      "id": "md4MoGX454zf",
      "metadata": {
        "id": "md4MoGX454zf"
      },
      "outputs": [],
      "source": [
        "def Gibbs(qtilde,x0,z, p):\n",
        "  h = qtilde * x0 + sqrt(qtilde) * z\n",
        "  return tanh(h)/(1 + exp(qtilde/2)*(1-2*p)/(2*p * cosh(h) ))\n",
        "\n",
        "def Partition(qtilde,x0,z, p): #the partition function\n",
        "  h = qtilde * x0 + sqrt(qtilde) * z\n",
        "  return exp(-qtilde/2)*2*cosh(h)*p+(1-2*p)\n",
        "\n",
        "def Gauss(z):\n",
        "  return exp(-z*z/2)/sqrt(2*pi)\n",
        "\n",
        "def ExpectGibbsRad(qtilde,p):\n",
        "  BOUNDS = 10\n",
        "  #x0 = 1  \n",
        "  av_fp = lambda z: Gauss(z) * p * (Gibbs(qtilde,1,z,p))**2\n",
        "  av_plus, err = integrate.quad(av_fp, -BOUNDS, BOUNDS)\n",
        "  #x0 = -1  \n",
        "  av_fm = lambda z: Gauss(z) * p * (Gibbs(qtilde,-1,z,p))**2\n",
        "  av_minus, err = integrate.quad(av_fm, -BOUNDS, BOUNDS)\n",
        "  #x0 = 0\n",
        "  av_fz = lambda z: Gauss(z) * (1-2*p) * (Gibbs(qtilde,0,z,p))**2\n",
        "  av_zero, err= integrate.quad(av_fz, -BOUNDS, BOUNDS)\n",
        "  return av_plus + av_zero + av_minus\n",
        "\n",
        "def ExpectedLogPartition(qtilde,p):\n",
        "  BOUNDS = 10\n",
        "  #x0 = 1  \n",
        "  av_fp = lambda z: Gauss(z) * p * log(Partition(qtilde,1,z,p))\n",
        "  av_plus, err = integrate.quad(av_fp, -BOUNDS, BOUNDS)\n",
        "  #x0 = -1  \n",
        "  av_fm = lambda z: Gauss(z) * p * log(Partition(qtilde,-1,z,p))\n",
        "  av_minus, err = integrate.quad(av_fm, -BOUNDS, BOUNDS)\n",
        "  #x0 = 0\n",
        "  av_fz = lambda z: Gauss(z) * (1-2*p) * log(Partition(qtilde,0,z,p))\n",
        "  av_zero, err= integrate.quad(av_fz, -BOUNDS, BOUNDS)\n",
        "  return av_plus + av_zero + av_minus\n",
        "\n",
        "def ExpectGibbs(qtilde,prior,p):\n",
        "  if(prior == 'gaussian'):\n",
        "        return 1 - 1/(qtilde + 1)\n",
        "  elif prior == 'radamacher':\n",
        "        return ExpectGibbsRad(qtilde,p)\n",
        "\n",
        "def iterate(Qtilde1,Qtilde2,rho1,rho2,Delta_11,Delta_12,Delta_22,damping,prior,p):\n",
        "  term1 =  ExpectGibbs(Qtilde1,prior,p)\n",
        "  term2 = ExpectGibbs(Qtilde2,prior,p)\n",
        "  newQtilde1 = (rho1/Delta_11) * term1 + (rho2/Delta_12)*term2\n",
        "  newQtilde2 = (rho1/Delta_12) * term1 + (rho2/Delta_22)*term2\n",
        "  return (1-damping)*newQtilde1+damping*Qtilde1, (1-damping)*newQtilde2+damping*Qtilde2,sqrt((newQtilde1-Qtilde1)**2+(newQtilde2-Qtilde2)**2)\n",
        "\n",
        "def ComputeQ(Qtilde1,Qtilde2,prior,p):\n",
        "  return  ExpectGibbs(Qtilde1,prior,p), ExpectGibbs(Qtilde2,prior,p)\n",
        "\n",
        "def FreeEnergy(Qtilde1,Qtilde2,rho1,rho2,Delta_11,Delta_12,Delta_22,prior,p): #computation of the free energy\n",
        "  Q1, Q2 = ComputeQ(Qtilde1,Qtilde2,prior,p)\n",
        "  if(prior == 'gaussian'):\n",
        "        return -rho1*rho1*Q1*Q1/Delta_11/4 - rho2*rho2*Q2*Q2/Delta_22/4 - 2*rho1*rho2*Q1*Q2/Delta_12/4 + rho1/2 *( Qtilde1 - log(1 + Qtilde1) ) + rho2/2*( Qtilde2 - log(1 + Qtilde2) )\n",
        "  elif prior == 'radamacher':\n",
        "        return -rho1*rho1*Q1*Q1/Delta_11/4 - rho2*rho2*Q2*Q2/Delta_22/4 - 2*rho1*rho2*Q1*Q2/Delta_12/4 + rho1*ExpectedLogPartition(Qtilde1,p) + rho2*ExpectedLogPartition(Qtilde2,p)\n",
        "\n",
        "def Solve_Q(Qtilde1,Qtilde2,rho1,rho2,Delta_11,Delta_12,Delta_22,prior,p):\n",
        "    conv = 1000\n",
        "    it = 0\n",
        "    while (conv>1e-6):\n",
        "      it = it +1\n",
        "      damping = 1      \n",
        "      ok = 0\n",
        "      t = 0 \n",
        "      oldconv = conv\n",
        "      while (ok ==0):\n",
        "        t = t + 1\n",
        "        Qtilde1,Qtilde2,conv = iterate(Qtilde1,Qtilde2,rho1,rho2,Delta_11,Delta_12,Delta_22,damping,prior,p)\n",
        "        if (conv<oldconv):\n",
        "          ok = 1\n",
        "        if (t>100):\n",
        "          ok = 1\n",
        "        damping = damping / 1.2\n",
        "    #  print(it,t,damping*1.2,Qtilde1,Qtilde2,conv)      \n",
        "    return Qtilde1,Qtilde2"
      ]
    },
    {
      "cell_type": "code",
      "execution_count": 79,
      "id": "dsXro6n39cv2",
      "metadata": {
        "id": "dsXro6n39cv2"
      },
      "outputs": [],
      "source": [
        "def visualize (data_amp, data_optimal):\n",
        "    fig, ax = plt.subplots(figsize=(7,5))\n",
        "    plt.plot(data_amp['param'], data_amp['mse'], \n",
        "         '.', label='AMP', color='red')\n",
        "    plt.plot(data_optimal['param'], data_optimal['mse'], \n",
        "         '-y', label='Optimal', color='blue')\n",
        "    plt.xlabel('param')\n",
        "    plt.ylabel('mse')\n",
        "    plt.legend()"
      ]
    },
    {
      "cell_type": "markdown",
      "id": "tTL_Kxbq9gPW",
      "metadata": {
        "id": "tTL_Kxbq9gPW"
      },
      "source": [
        "Generating the MMSE"
      ]
    },
    {
      "cell_type": "code",
      "execution_count": 80,
      "id": "Ozx-2Xqp5-pn",
      "metadata": {
        "id": "Ozx-2Xqp5-pn"
      },
      "outputs": [],
      "source": [
        "def optimal_curve(start, end, points, diag_scalar, proportion, prior, p):\n",
        "    \n",
        "    rho1 = proportion\n",
        "    rho2 = 1-rho1\n",
        "    Delta11 = start\n",
        "    Delta12 = start\n",
        "    Delta22 = (start*diag_scalar)**2\n",
        "\n",
        "    Q1 = 1\n",
        "    Q2 = 1\n",
        "    Qtilde1 = rho1/Delta11**2*Q1 + rho2/Delta12**2*Q2\n",
        "    Qtilde2 = rho1/Delta12**2*Q1 + rho2/Delta22**2*Q2\n",
        "\n",
        "    MMSEVec = []\n",
        "    paramvec = []\n",
        "\n",
        "    param_range = np.linspace(start, end, points)\n",
        "\n",
        "    for param in param_range:\n",
        "      Delta_11_new = param**2\n",
        "      Delta_12_new = param**2\n",
        "      Delta_22_new = (diag_scalar*param)**2\n",
        "      Qtilde1,Qtilde2 = Solve_Q(Qtilde1,Qtilde2,rho1,rho2,Delta_11_new,Delta_12_new,Delta_22_new,prior,p)\n",
        "      MMSEVec.append( 1 - ( rho1**2 * ExpectGibbs(Qtilde1,prior,p)*ExpectGibbs(Qtilde1,prior,p) + \n",
        "                           2*rho1*rho2 *  ExpectGibbs(Qtilde1,prior,p) * ExpectGibbs(Qtilde2,prior,p) + \n",
        "                           rho2**2 * ExpectGibbs(Qtilde2,prior,p) * ExpectGibbs(Qtilde2,prior,p) )  )\n",
        "      paramvec.append(param)\n",
        "    \n",
        "    return {'param': paramvec, 'mse': MMSEVec}\n"
      ]
    },
    {
      "cell_type": "code",
      "execution_count": 81,
      "id": "gWxxwo_K8rkm",
      "metadata": {
        "colab": {
          "base_uri": "https://localhost:8080/",
          "height": 681
        },
        "id": "gWxxwo_K8rkm",
        "outputId": "6985dcf3-5a1c-4a39-9744-5999e4b2c94b"
      },
      "outputs": [
        {
          "output_type": "stream",
          "name": "stdout",
          "text": [
            "Computing with parameter = 0.2\n",
            "Computing with parameter = 0.2578947368421053\n",
            "Computing with parameter = 0.31578947368421056\n",
            "Computing with parameter = 0.37368421052631584\n",
            "Computing with parameter = 0.43157894736842106\n",
            "Computing with parameter = 0.48947368421052634\n",
            "Computing with parameter = 0.5473684210526316\n",
            "Computing with parameter = 0.605263157894737\n",
            "Computing with parameter = 0.6631578947368422\n",
            "Computing with parameter = 0.7210526315789474\n",
            "Computing with parameter = 0.7789473684210526\n",
            "Computing with parameter = 0.836842105263158\n",
            "Computing with parameter = 0.8947368421052633\n",
            "Computing with parameter = 0.9526315789473685\n",
            "Computing with parameter = 1.0105263157894737\n",
            "Computing with parameter = 1.0684210526315792\n",
            "Computing with parameter = 1.1263157894736844\n",
            "Computing with parameter = 1.1842105263157896\n",
            "Computing with parameter = 1.2421052631578948\n",
            "Computing with parameter = 1.3\n"
          ]
        },
        {
          "output_type": "display_data",
          "data": {
            "text/plain": [
              "<Figure size 504x360 with 1 Axes>"
            ],
            "image/png": "[encoded data removed]"
          },
          "metadata": {
            "needs_background": "light"
          }
        }
      ],
      "source": [
        "dimension = 100\n",
        "start = 0.2\n",
        "end = 1.3\n",
        "points = 20\n",
        "delta_collection = two_blocks_collection(dimension = dimension, start = start, end = end, points = points, \n",
        "                                         first_size = dimension//2, diag_scalar = 1)\n",
        "gaussian_prior = parameter_curve(seeds = 6, dimension = dimension,\n",
        "                                   delta_collection = delta_collection, prior = 'gaussian')\n",
        "visualize(data_amp = gaussian_prior, data_optimal = \n",
        "          optimal_curve(start = start, end = end, points = 100, diag_scalar = 1, proportion = 0.5, prior = 'gaussian', p = 0.5))"
      ]
    }
  ],
  "metadata": {
    "colab": {
      "collapsed_sections": [],
      "name": "AMP_inhomegenous_noise_Justin.ipynb",
      "provenance": []
    },
    "kernelspec": {
      "display_name": "Python 3",
      "language": "python",
      "name": "python3"
    },
    "language_info": {
      "codemirror_mode": {
        "name": "ipython",
        "version": 3
      },
      "file_extension": ".py",
      "mimetype": "text/x-python",
      "name": "python",
      "nbconvert_exporter": "python",
      "pygments_lexer": "ipython3",
      "version": "3.8.8"
    }
  },
  "nbformat": 4,
  "nbformat_minor": 5
}
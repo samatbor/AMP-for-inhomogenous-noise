{
  "cells": [
    {
      "cell_type": "code",
      "execution_count": 15,
      "id": "b11e198f-4d3d-4461-8077-485cfc8481c2",
      "metadata": {
        "id": "b11e198f-4d3d-4461-8077-485cfc8481c2"
      },
      "outputs": [],
      "source": [
        "%matplotlib inline \n",
        "import numpy as np\n",
        "import scipy.integrate as integrate\n",
        "import matplotlib.pyplot as plt\n",
        "from numpy import sqrt, sin, cos, pi, cosh, sinh, tanh, exp, linalg, log\n",
        "from sympy import symbols, solve\n",
        "import math\n",
        "from  scipy.sparse.linalg import eigsh"
      ]
    },
    {
      "cell_type": "markdown",
      "id": "2b5fc0f7",
      "metadata": {
        "id": "2b5fc0f7"
      },
      "source": [
        "Let us write a function which creates a matrix consisting of two blocks with prescribed values(later we will write a general with k blocks)"
      ]
    },
    {
      "cell_type": "code",
      "execution_count": 16,
      "id": "e4dfe32f",
      "metadata": {
        "id": "e4dfe32f"
      },
      "outputs": [],
      "source": [
        "def create_two_blocks(dimension, size1, value11, value12, value22): \n",
        "    #Returns a symmetric matrix consisting of two blocks with prescribed values \n",
        "    delta = np.zeros((dimension, dimension))\n",
        "    delta[:size1, :size1] = value11\n",
        "    delta[size1:, :size1] = value12\n",
        "    delta[:size1, size1:] = value12\n",
        "    delta[size1:, size1:] = value22\n",
        "    return delta"
      ]
    },
    {
      "cell_type": "code",
      "execution_count": 17,
      "id": "5601165c",
      "metadata": {
        "colab": {
          "base_uri": "https://localhost:8080/"
        },
        "id": "5601165c",
        "outputId": "08802f2f-2ac2-4d52-9f63-474834d880aa"
      },
      "outputs": [
        {
          "output_type": "execute_result",
          "data": {
            "text/plain": [
              "array([[1., 1., 1., 1., 3., 3., 3., 3., 3., 3.],\n",
              "       [1., 1., 1., 1., 3., 3., 3., 3., 3., 3.],\n",
              "       [1., 1., 1., 1., 3., 3., 3., 3., 3., 3.],\n",
              "       [1., 1., 1., 1., 3., 3., 3., 3., 3., 3.],\n",
              "       [3., 3., 3., 3., 5., 5., 5., 5., 5., 5.],\n",
              "       [3., 3., 3., 3., 5., 5., 5., 5., 5., 5.],\n",
              "       [3., 3., 3., 3., 5., 5., 5., 5., 5., 5.],\n",
              "       [3., 3., 3., 3., 5., 5., 5., 5., 5., 5.],\n",
              "       [3., 3., 3., 3., 5., 5., 5., 5., 5., 5.],\n",
              "       [3., 3., 3., 3., 5., 5., 5., 5., 5., 5.]])"
            ]
          },
          "metadata": {},
          "execution_count": 17
        }
      ],
      "source": [
        "create_two_blocks(10, 4, 1, 3, 5)"
      ]
    },
    {
      "cell_type": "markdown",
      "id": "35638f93",
      "metadata": {
        "id": "35638f93"
      },
      "source": [
        "### Instance of the problem"
      ]
    },
    {
      "cell_type": "markdown",
      "id": "a36e5f69",
      "metadata": {
        "id": "a36e5f69"
      },
      "source": [
        "Let us generate an instance of the problem with inhomogenous noise (delta instead of snr)"
      ]
    },
    {
      "cell_type": "code",
      "execution_count": 18,
      "id": "250d6016",
      "metadata": {
        "id": "250d6016"
      },
      "outputs": [],
      "source": [
        "def get_instance(dimension, prior, delta):\n",
        "    #Returns a ground truth vector and the matrix corrupted by a gaussian noise according to the model\n",
        "    if prior =='gaussian':\n",
        "        true_vector = np.random.normal(0,1, (dimension,1))       \n",
        "    elif prior == 'radamacher':\n",
        "        true_vector = np.random.choice([-1,1], size=(dimension, 1))\n",
        "        \n",
        "    noise = np.triu(np.random.normal(0, 1, (dimension,dimension)))\n",
        "    noise = noise + noise.T + np.diag(np.random.normal(0,1, dimension))\n",
        "    \n",
        "    corrupted_matrix = np.sqrt(1 / dimension) * true_vector @ true_vector.T + noise * delta\n",
        "\n",
        "    return true_vector, corrupted_matrix"
      ]
    },
    {
      "cell_type": "code",
      "execution_count": 19,
      "id": "f9d6eac4",
      "metadata": {
        "colab": {
          "base_uri": "https://localhost:8080/",
          "height": 267
        },
        "id": "f9d6eac4",
        "outputId": "c8e0cd3d-b146-480c-8e1e-ec4776b466b9"
      },
      "outputs": [
        {
          "output_type": "display_data",
          "data": {
            "text/plain": [
              "<Figure size 432x288 with 1 Axes>"
            ],
            "image/png": "[encoded data removed]"
          },
          "metadata": {
            "needs_background": "light"
          }
        }
      ],
      "source": [
        "delta = create_two_blocks(dimension = 50, size1 = 30, value11 = 1, value12 = 1, value22 = 8)\n",
        "Y = get_instance(dimension = 50, prior = 'gaussian', delta = delta)[1]\n",
        "plt.imshow(Y, interpolation = 'none')\n",
        "plt.show()"
      ]
    },
    {
      "cell_type": "markdown",
      "id": "40d81bd0",
      "metadata": {
        "id": "40d81bd0"
      },
      "source": [
        "The plot above clearly illustrates the presence of two communities in the generated instance. In the first community the variance is 1 and the color is quite uniform, whereas in the second the variance is 8 and the color varies wildly across different nodes from the same community."
      ]
    },
    {
      "cell_type": "markdown",
      "id": "38e8e4b3",
      "metadata": {
        "id": "38e8e4b3"
      },
      "source": [
        "Let us now implement AMP for the inhomegenous noise "
      ]
    },
    {
      "cell_type": "code",
      "execution_count": 20,
      "id": "9089e89e",
      "metadata": {
        "id": "9089e89e"
      },
      "outputs": [],
      "source": [
        "def damp(new, old, damping=0.25):\n",
        "    return damping * old + (1-damping) * new\n",
        "\n",
        "def iterate_amp(precision = 1e-5, max_steps = 100, *, init, prior, Y, delta):\n",
        "    \n",
        "    N = Y.shape[0]\n",
        "    \n",
        "    estimator = init\n",
        "    previous_estimator = np.copy(init)\n",
        "    derivative = np.zeros(N) \n",
        "    \n",
        "    converged = False\n",
        "    \n",
        "    a_previous = 0\n",
        "    b_previous = np.zeros(N)\n",
        "    #parameters of the integral calculating the Bayesian-optimal denoising\n",
        "    \n",
        "    for timestep in range(max_steps):   \n",
        "        snr = [np.mean (estimator**2) / np.mean((delta[j] * estimator)**2) for j in range(N)]\n",
        "        Onsager_term = [np.mean (delta[j]**2 * derivative) for j in range(N)]\n",
        "        snr = np.array(snr)\n",
        "        Onsager_term = np.array(Onsager_term)\n",
        "        \n",
        "        next_step = np.sqrt(1 / N) * Y.T @ estimator - Onsager_term * previous_estimator\n",
        "        a = snr * np.mean(estimator**2) \n",
        "        b = snr * next_step\n",
        "        \n",
        "        if timestep != 0:\n",
        "            a = damp(a, a_previous)\n",
        "            b = damp(b, b_previous)\n",
        "            \n",
        "        previous_estimator = estimator\n",
        "        estimator, derivative = denoiser_and_derivative(b, a, prior = prior)\n",
        "        derivative *= snr\n",
        "        \n",
        "        step_difference = np.mean((estimator-previous_estimator)**2)\n",
        "        a_previous = np.copy(a)\n",
        "        b_previous = np.copy(b)\n",
        "        \n",
        "        if (timestep > 2) and (step_difference < precision):\n",
        "            converged = True\n",
        "            break\n",
        "            \n",
        "    if not converged:\n",
        "        print(\"AMP didn't converge!\")\n",
        "    \n",
        "    return estimator"
      ]
    },
    {
      "cell_type": "markdown",
      "id": "3d5b96bb",
      "metadata": {
        "id": "3d5b96bb"
      },
      "source": [
        "Now we implement the denoiser functions. Note that with inhomegenous noise both parameters b and a are vectors"
      ]
    },
    {
      "cell_type": "code",
      "execution_count": 21,
      "id": "995ceee6",
      "metadata": {
        "id": "995ceee6"
      },
      "outputs": [],
      "source": [
        "def denoiser_and_derivative(b, a, *, prior):\n",
        "    if(prior == 'gaussian'):\n",
        "        return b/(1+a), 1/(1+a) \n",
        "    elif prior == 'radamacher':\n",
        "        return np.tanh(b), 1-np.tanh(b)**2"
      ]
    },
    {
      "cell_type": "markdown",
      "id": "37b5cf45",
      "metadata": {
        "id": "37b5cf45"
      },
      "source": [
        "We now calculate the average performance of AMP over several runs"
      ]
    },
    {
      "cell_type": "code",
      "execution_count": 22,
      "id": "e94c9c16",
      "metadata": {
        "id": "e94c9c16"
      },
      "outputs": [],
      "source": [
        "def get_mse(truth, estimate):\n",
        "    first_possibility = np.mean((truth - estimate)**2)\n",
        "    second_possibility = np.mean((truth + estimate)**2)\n",
        "    return min(first_possibility, second_possibility) #It is impossible to learn the sign\n",
        "\n",
        "def get_averaged_performance(seeds, dimension, initialisation = 'uninformed', *, prior, delta):\n",
        "    mse = []\n",
        "    N = dimension\n",
        "    for _ in range(seeds):\n",
        "        init = 1e-3 * np.random.normal(0,1,(N,1)) # default initialisation is uninformed\n",
        "        # Generate an instance\n",
        "        truth, Y = get_instance(dimension = dimension, \n",
        "                             prior = prior, \n",
        "                             delta = delta)\n",
        "        \n",
        "        # In informed initialisation start close to signal\n",
        "        if initialisation == 'informed':\n",
        "            init += truth \n",
        "        elif initialisation == 'spectral':\n",
        "            _, init = np.linalg.eigh(Y)[N-1]\n",
        "            init *= np.sqrt(len(truth))\n",
        "        estimate = iterate_amp(init = init, \n",
        "                                 prior = prior, \n",
        "                                 Y = Y, \n",
        "                                 delta = delta)\n",
        "        mse.append(get_mse(truth, estimate))\n",
        "        \n",
        "    return np.mean(mse)"
      ]
    },
    {
      "cell_type": "code",
      "execution_count": 23,
      "id": "c8a3ac28",
      "metadata": {
        "id": "c8a3ac28"
      },
      "outputs": [],
      "source": [
        "def data_amp(seeds, dimension, initialisation = 'uninformed', *, delta_collection, prior):\n",
        "    \n",
        "    data = {'parameter': [], 'mse': []}\n",
        "    for delta in delta_collection:\n",
        "        parameter = delta[0][0]\n",
        "        print(\"Computing with parameter = {}\".format(parameter))\n",
        "        \n",
        "        mse = get_averaged_performance(seeds = seeds,dimension = dimension, \n",
        "                                            initialisation = initialisation, \n",
        "                                            prior = prior, \n",
        "                                            delta = delta)\n",
        "        \n",
        "        data['parameter'].append(parameter)\n",
        "        data['mse'].append(mse)\n",
        "\n",
        "    return data"
      ]
    },
    {
      "cell_type": "code",
      "execution_count": 24,
      "id": "909e8ec2",
      "metadata": {
        "id": "909e8ec2"
      },
      "outputs": [],
      "source": [
        "def create_two_blocks_collection(dimension, *, start, end, points, first_size, diag_scalar):\n",
        "    N = dimension\n",
        "    parameter_range = np.linspace(start, end, points)\n",
        "    delta_collection = []\n",
        "    for parameter in parameter_range:\n",
        "        delta_collection.append(create_two_blocks(N, first_size, parameter, parameter, diag_scalar * parameter))\n",
        "    return np.array(delta_collection)\n"
      ]
    },
    {
      "cell_type": "markdown",
      "id": "vQQVwujS5_xX",
      "metadata": {
        "id": "vQQVwujS5_xX"
      },
      "source": [
        "Code to solve the variational problem"
      ]
    },
    {
      "cell_type": "code",
      "execution_count": 25,
      "id": "md4MoGX454zf",
      "metadata": {
        "id": "md4MoGX454zf"
      },
      "outputs": [],
      "source": [
        "def Gibbs(qtilde,x0,z, p):\n",
        "  h = qtilde * x0 + sqrt(qtilde) * z\n",
        "  return tanh(h)/(1 + exp(qtilde/2)*(1-2*p)/(2*p * cosh(h) ))\n",
        "\n",
        "def Partition(qtilde,x0,z, p): #the partition function\n",
        "  h = qtilde * x0 + sqrt(qtilde) * z\n",
        "  return exp(-qtilde/2)*2*cosh(h)*p+(1-2*p)\n",
        "\n",
        "def Gauss(z):\n",
        "  return exp(-z*z/2)/sqrt(2*pi)\n",
        "\n",
        "def ExpectGibbsRad(qtilde,p):\n",
        "  BOUNDS = 10\n",
        "  #x0 = 1  \n",
        "  av_fp = lambda z: Gauss(z) * p * (Gibbs(qtilde,1,z,p))**2\n",
        "  av_plus, err = integrate.quad(av_fp, -BOUNDS, BOUNDS)\n",
        "  #x0 = -1  \n",
        "  av_fm = lambda z: Gauss(z) * p * (Gibbs(qtilde,-1,z,p))**2\n",
        "  av_minus, err = integrate.quad(av_fm, -BOUNDS, BOUNDS)\n",
        "  #x0 = 0\n",
        "  av_fz = lambda z: Gauss(z) * (1-2*p) * (Gibbs(qtilde,0,z,p))**2\n",
        "  av_zero, err= integrate.quad(av_fz, -BOUNDS, BOUNDS)\n",
        "  return av_plus + av_zero + av_minus\n",
        "\n",
        "def ExpectedLogPartition(qtilde,p):\n",
        "  BOUNDS = 10\n",
        "  #x0 = 1  \n",
        "  av_fp = lambda z: Gauss(z) * p * log(Partition(qtilde,1,z,p))\n",
        "  av_plus, err = integrate.quad(av_fp, -BOUNDS, BOUNDS)\n",
        "  #x0 = -1  \n",
        "  av_fm = lambda z: Gauss(z) * p * log(Partition(qtilde,-1,z,p))\n",
        "  av_minus, err = integrate.quad(av_fm, -BOUNDS, BOUNDS)\n",
        "  #x0 = 0\n",
        "  av_fz = lambda z: Gauss(z) * (1-2*p) * log(Partition(qtilde,0,z,p))\n",
        "  av_zero, err= integrate.quad(av_fz, -BOUNDS, BOUNDS)\n",
        "  return av_plus + av_zero + av_minus\n",
        "\n",
        "def ExpectGibbs(qtilde,prior,p):\n",
        "  if(prior == 'gaussian'):\n",
        "        return 1 - 1/(qtilde + 1)\n",
        "  elif prior == 'radamacher':\n",
        "        return ExpectGibbsRad(qtilde,p)\n",
        "\n",
        "def iterate(Qtilde1,Qtilde2,rho1,rho2,Delta_11,Delta_12,Delta_22,damping,prior,p):\n",
        "  term1 =  ExpectGibbs(Qtilde1,prior,p)\n",
        "  term2 = ExpectGibbs(Qtilde2,prior,p)\n",
        "  newQtilde1 = (rho1/Delta_11) * term1 + (rho2/Delta_12)*term2\n",
        "  newQtilde2 = (rho1/Delta_12) * term1 + (rho2/Delta_22)*term2\n",
        "  return (1-damping)*newQtilde1+damping*Qtilde1, (1-damping)*newQtilde2+damping*Qtilde2,sqrt((newQtilde1-Qtilde1)**2+(newQtilde2-Qtilde2)**2)\n",
        "\n",
        "def ComputeQ(Qtilde1,Qtilde2,prior,p):\n",
        "  return  ExpectGibbs(Qtilde1,prior,p), ExpectGibbs(Qtilde2,prior,p)\n",
        "\n",
        "def FreeEnergy(Qtilde1,Qtilde2,rho1,rho2,Delta_11,Delta_12,Delta_22,prior,p): #computation of the free energy\n",
        "  Q1, Q2 = ComputeQ(Qtilde1,Qtilde2,prior,p)\n",
        "  if(prior == 'gaussian'):\n",
        "        return -rho1*rho1*Q1*Q1/Delta_11/4 - rho2*rho2*Q2*Q2/Delta_22/4 - 2*rho1*rho2*Q1*Q2/Delta_12/4 + rho1/2 *( Qtilde1 - log(1 + Qtilde1) ) + rho2/2*( Qtilde2 - log(1 + Qtilde2) )\n",
        "  elif prior == 'radamacher':\n",
        "        return -rho1*rho1*Q1*Q1/Delta_11/4 - rho2*rho2*Q2*Q2/Delta_22/4 - 2*rho1*rho2*Q1*Q2/Delta_12/4 + rho1*ExpectedLogPartition(Qtilde1,p) + rho2*ExpectedLogPartition(Qtilde2,p)\n",
        "\n",
        "def Solve_Q(Qtilde1,Qtilde2,rho1,rho2,Delta_11,Delta_12,Delta_22,prior,p):\n",
        "    conv = 1000\n",
        "    it = 0\n",
        "    while (conv>1e-6):\n",
        "      it = it +1\n",
        "      damping = 1      \n",
        "      ok = 0\n",
        "      t = 0 \n",
        "      oldconv = conv\n",
        "      while (ok ==0):\n",
        "        t = t + 1\n",
        "        Qtilde1,Qtilde2,conv = iterate(Qtilde1,Qtilde2,rho1,rho2,Delta_11,Delta_12,Delta_22,damping,prior,p)\n",
        "        if (conv<oldconv):\n",
        "          ok = 1\n",
        "        if (t>100):\n",
        "          ok = 1\n",
        "        damping = damping / 1.2\n",
        "    #  print(it,t,damping*1.2,Qtilde1,Qtilde2,conv)      \n",
        "    return Qtilde1,Qtilde2"
      ]
    },
    {
      "cell_type": "code",
      "execution_count": 26,
      "id": "dsXro6n39cv2",
      "metadata": {
        "id": "dsXro6n39cv2"
      },
      "outputs": [],
      "source": [
        "def visualize (data_amp, data_optimal):\n",
        "    fig, ax = plt.subplots(figsize=(12,10))\n",
        "    plt.plot(data_optimal['parameter'], data_optimal['mse'], \n",
        "         '-y', label='Optimal', color='blue')\n",
        "    plt.plot(data_amp['parameter'], data_amp['mse'], \n",
        "         '.', label='AMP', color='red')\n",
        "    plt.xlabel('param')\n",
        "    plt.ylabel('mse')\n",
        "    plt.legend()"
      ]
    },
    {
      "cell_type": "markdown",
      "id": "tTL_Kxbq9gPW",
      "metadata": {
        "id": "tTL_Kxbq9gPW"
      },
      "source": [
        "Generating the MMSE"
      ]
    },
    {
      "cell_type": "code",
      "execution_count": 27,
      "id": "Ozx-2Xqp5-pn",
      "metadata": {
        "id": "Ozx-2Xqp5-pn"
      },
      "outputs": [],
      "source": [
        "def optimal_curve(start, end, points, diag_scalar, prior, p):\n",
        "    \n",
        "    rho1 = 0.5\n",
        "    rho2 = 0.5\n",
        "\n",
        "    Qtilde1 = 1\n",
        "    Qtilde2 = 1\n",
        "\n",
        "    MMSEVec = []\n",
        "    paramvec = []\n",
        "\n",
        "    param_range = np.linspace(start, end, points)\n",
        "\n",
        "    for param in param_range:\n",
        "      Delta_11_new = param**2\n",
        "      Delta_12_new = param**2\n",
        "      Delta_22_new = (diag_scalar*param)**2\n",
        "      Qtilde1,Qtilde2 = Solve_Q(Qtilde1,Qtilde2,rho1,rho2,Delta_11_new,Delta_12_new,Delta_22_new,prior,p)\n",
        "      MMSEVec.append( 1 - ( rho1**2 * ExpectGibbs(Qtilde1,prior,p)*ExpectGibbs(Qtilde1,prior,p) + \n",
        "                           2*rho1*rho2 *  ExpectGibbs(Qtilde1,prior,p) * ExpectGibbs(Qtilde2,prior,p) + \n",
        "                           rho2**2 * ExpectGibbs(Qtilde2,prior,p) * ExpectGibbs(Qtilde2,prior,p) )  )\n",
        "      paramvec.append(param)\n",
        "    \n",
        "    return {'parameter': paramvec, 'mse': MMSEVec}\n"
      ]
    },
    {
      "cell_type": "code",
      "execution_count": 28,
      "id": "gWxxwo_K8rkm",
      "metadata": {
        "colab": {
          "base_uri": "https://localhost:8080/",
          "height": 1000
        },
        "id": "gWxxwo_K8rkm",
        "outputId": "1f2df6d5-47b0-4fbb-dc00-8cebcbca2730"
      },
      "outputs": [
        {
          "output_type": "stream",
          "name": "stdout",
          "text": [
            "Computing with parameter = 0.05\n",
            "Computing with parameter = 0.07346938775510203\n",
            "Computing with parameter = 0.09693877551020408\n",
            "Computing with parameter = 0.12040816326530611\n",
            "Computing with parameter = 0.14387755102040817\n",
            "Computing with parameter = 0.1673469387755102\n",
            "Computing with parameter = 0.1908163265306122\n",
            "Computing with parameter = 0.21428571428571425\n",
            "Computing with parameter = 0.2377551020408163\n",
            "Computing with parameter = 0.26122448979591834\n",
            "Computing with parameter = 0.2846938775510204\n",
            "Computing with parameter = 0.3081632653061224\n",
            "Computing with parameter = 0.3316326530612244\n",
            "Computing with parameter = 0.35510204081632646\n",
            "Computing with parameter = 0.3785714285714285\n",
            "Computing with parameter = 0.40204081632653055\n",
            "Computing with parameter = 0.4255102040816326\n",
            "Computing with parameter = 0.44897959183673464\n",
            "Computing with parameter = 0.4724489795918367\n",
            "Computing with parameter = 0.4959183673469387\n",
            "Computing with parameter = 0.5193877551020408\n",
            "Computing with parameter = 0.5428571428571428\n",
            "AMP didn't converge!\n",
            "Computing with parameter = 0.5663265306122449\n",
            "AMP didn't converge!\n",
            "Computing with parameter = 0.5897959183673469\n",
            "AMP didn't converge!\n",
            "Computing with parameter = 0.6132653061224489\n",
            "AMP didn't converge!\n",
            "AMP didn't converge!\n",
            "Computing with parameter = 0.636734693877551\n",
            "Computing with parameter = 0.660204081632653\n",
            "Computing with parameter = 0.6836734693877551\n",
            "Computing with parameter = 0.7071428571428571\n",
            "Computing with parameter = 0.7306122448979592\n",
            "Computing with parameter = 0.7540816326530612\n",
            "Computing with parameter = 0.7775510204081633\n",
            "Computing with parameter = 0.8010204081632653\n",
            "Computing with parameter = 0.8244897959183672\n",
            "Computing with parameter = 0.8479591836734693\n",
            "Computing with parameter = 0.8714285714285713\n",
            "Computing with parameter = 0.8948979591836734\n",
            "Computing with parameter = 0.9183673469387754\n",
            "Computing with parameter = 0.9418367346938775\n",
            "Computing with parameter = 0.9653061224489795\n",
            "Computing with parameter = 0.9887755102040816\n",
            "Computing with parameter = 1.0122448979591836\n",
            "Computing with parameter = 1.0357142857142856\n",
            "Computing with parameter = 1.0591836734693876\n",
            "Computing with parameter = 1.0826530612244898\n",
            "Computing with parameter = 1.1061224489795918\n",
            "Computing with parameter = 1.1295918367346938\n",
            "Computing with parameter = 1.1530612244897958\n",
            "Computing with parameter = 1.1765306122448977\n",
            "Computing with parameter = 1.2\n"
          ]
        },
        {
          "output_type": "display_data",
          "data": {
            "text/plain": [
              "<Figure size 864x720 with 1 Axes>"
            ],
            "image/png": "[encoded data removed]"
          },
          "metadata": {
            "needs_background": "light"
          }
        }
      ],
      "source": [
        "dimension = 75\n",
        "start = 0.05\n",
        "end = 1.2\n",
        "points = 50\n",
        "delta_collection = create_two_blocks_collection(dimension = dimension, start = start, end = end, points = points, \n",
        "                                         first_size = dimension//2, diag_scalar = 1)\n",
        "gaussian_prior = data_amp(initialisation = 'uninformed', seeds = 10, dimension = dimension,\n",
        "                                   delta_collection = delta_collection, prior = 'gaussian')\n",
        "visualize(data_amp = gaussian_prior, data_optimal = \n",
        "          optimal_curve(start = start, end = end, points = 1000, diag_scalar = 1,prior = 'gaussian',p = 0.5))"
      ]
    }
  ],
  "metadata": {
    "colab": {
      "collapsed_sections": [],
      "name": "AMP_inhomegenous_noise_Justin.ipynb",
      "provenance": []
    },
    "kernelspec": {
      "display_name": "Python 3",
      "language": "python",
      "name": "python3"
    }
  },
  "nbformat": 4,
  "nbformat_minor": 5
}
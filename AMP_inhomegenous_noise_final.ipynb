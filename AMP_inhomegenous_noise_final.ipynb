{
 "cells": [
  {
   "cell_type": "code",
   "execution_count": 618,
   "id": "b11e198f-4d3d-4461-8077-485cfc8481c2",
   "metadata": {
    "id": "b11e198f-4d3d-4461-8077-485cfc8481c2"
   },
   "outputs": [],
   "source": [
    "%matplotlib inline\n",
    "import numpy as np\n",
    "import scipy.integrate as integrate\n",
    "import matplotlib.pyplot as plt\n",
    "from numpy import sqrt, sin, cos, pi, cosh, sinh, tanh, exp, linalg, log\n",
    "from sympy import symbols, solve\n",
    "import math\n",
    "from  scipy.sparse.linalg import eigsh"
   ]
  },
  {
   "cell_type": "markdown",
   "id": "2b5fc0f7",
   "metadata": {
    "id": "2b5fc0f7"
   },
   "source": [
    "Let us write a function which creates a matrix consisting of two blocks with prescribed values(later we will write a general with k blocks)"
   ]
  },
  {
   "cell_type": "code",
   "execution_count": 619,
   "id": "e4dfe32f",
   "metadata": {
    "id": "e4dfe32f"
   },
   "outputs": [],
   "source": [
    "def create_two_blocks(dimension, size1, value11, value12, value22): \n",
    "    #Returns a symmetric matrix consisting of two blocks with prescribed values \n",
    "    delta = np.zeros((dimension, dimension))\n",
    "    delta[:size1, :size1] = value11\n",
    "    delta[size1:, :size1] = value12\n",
    "    delta[:size1, size1:] = value12\n",
    "    delta[size1:, size1:] = value22\n",
    "    return delta"
   ]
  },
  {
   "cell_type": "code",
   "execution_count": 620,
   "id": "5601165c",
   "metadata": {
    "colab": {
     "base_uri": "https://localhost:8080/"
    },
    "id": "5601165c",
    "outputId": "556808bf-ae2d-4e01-f996-c48235e36863"
   },
   "outputs": [
    {
     "data": {
      "text/plain": [
       "array([[1., 1., 1., 1., 3., 3., 3., 3., 3., 3.],\n",
       "       [1., 1., 1., 1., 3., 3., 3., 3., 3., 3.],\n",
       "       [1., 1., 1., 1., 3., 3., 3., 3., 3., 3.],\n",
       "       [1., 1., 1., 1., 3., 3., 3., 3., 3., 3.],\n",
       "       [3., 3., 3., 3., 5., 5., 5., 5., 5., 5.],\n",
       "       [3., 3., 3., 3., 5., 5., 5., 5., 5., 5.],\n",
       "       [3., 3., 3., 3., 5., 5., 5., 5., 5., 5.],\n",
       "       [3., 3., 3., 3., 5., 5., 5., 5., 5., 5.],\n",
       "       [3., 3., 3., 3., 5., 5., 5., 5., 5., 5.],\n",
       "       [3., 3., 3., 3., 5., 5., 5., 5., 5., 5.]])"
      ]
     },
     "execution_count": 620,
     "metadata": {},
     "output_type": "execute_result"
    }
   ],
   "source": [
    "create_two_blocks(10, 4, 1, 3, 5)"
   ]
  },
  {
   "cell_type": "markdown",
   "id": "35638f93",
   "metadata": {
    "id": "35638f93"
   },
   "source": [
    "### Instance of the problem"
   ]
  },
  {
   "cell_type": "markdown",
   "id": "a36e5f69",
   "metadata": {
    "id": "a36e5f69"
   },
   "source": [
    "Let us generate an instance of the problem with inhomogenous noise (delta instead of snr)"
   ]
  },
  {
   "cell_type": "code",
   "execution_count": 621,
   "id": "250d6016",
   "metadata": {
    "id": "250d6016"
   },
   "outputs": [],
   "source": [
    "def get_instance(dimension, prior, delta):\n",
    "    #Returns a ground truth vector and the matrix corrupted by a gaussian noise according to the model\n",
    "    if prior == 'gaussian':\n",
    "        true_vector = np.random.normal(0,1, (dimension,1))       \n",
    "    elif prior == 'rademacher':\n",
    "        true_vector = np.random.choice([-1,1], size=(dimension, 1))\n",
    "        \n",
    "    noise = np.triu(np.random.normal(0, 1, (dimension,dimension)))\n",
    "    noise = noise + noise.T + np.diag(np.random.normal(0,1, dimension))\n",
    "    \n",
    "    corrupted_matrix = np.sqrt(1 / dimension) * true_vector @ true_vector.T + noise * delta\n",
    "\n",
    "    return true_vector, corrupted_matrix"
   ]
  },
  {
   "cell_type": "code",
   "execution_count": 622,
   "id": "f9d6eac4",
   "metadata": {
    "colab": {
     "base_uri": "https://localhost:8080/",
     "height": 267
    },
    "id": "f9d6eac4",
    "outputId": "5198cb48-6c01-4eee-e6b8-1a65878de3ca"
   },
   "outputs": [
    {
     "data": {
      "image/png": "[encoded data removed]",
      "text/plain": [
       "<Figure size 432x288 with 1 Axes>"
      ]
     },
     "metadata": {
      "needs_background": "light"
     },
     "output_type": "display_data"
    }
   ],
   "source": [
    "delta = create_two_blocks(dimension = 50, size1 = 30, value11 = 1, value12 = 1, value22 = 8)\n",
    "Y = get_instance(dimension = 50, prior = 'gaussian', delta = delta)[1]\n",
    "plt.imshow(Y, interpolation = 'none')\n",
    "plt.show()"
   ]
  },
  {
   "cell_type": "markdown",
   "id": "40d81bd0",
   "metadata": {
    "id": "40d81bd0"
   },
   "source": [
    "The plot above clearly illustrates the presence of two communities in the generated instance. In the first community the variance is 1 and the color is quite uniform, whereas in the second the variance is 8 and the color varies wildly across different nodes from the same community."
   ]
  },
  {
   "cell_type": "markdown",
   "id": "38e8e4b3",
   "metadata": {
    "id": "38e8e4b3"
   },
   "source": [
    "Let us now implement AMP for the inhomegenous noise "
   ]
  },
  {
   "cell_type": "code",
   "execution_count": 623,
   "id": "9089e89e",
   "metadata": {
    "id": "9089e89e"
   },
   "outputs": [],
   "source": [
    "def damp(new, old, damping=0.96):\n",
    "    return damping * old + (1-damping) * new\n",
    "\n",
    "def iterate_amp(precision = 1e-4, max_steps = 30, *, init, prior, Y, delta):\n",
    "    \n",
    "    N = Y.shape[0]\n",
    "    \n",
    "    previous_estimator = np.zeros(N)\n",
    "    estimator = np.copy(init)\n",
    "    derivative = np.zeros(N) \n",
    "    \n",
    "    converged = False\n",
    "    \n",
    "    for timestep in range(max_steps):   \n",
    "        snr = np.array([np.mean (estimator**2) / np.mean((delta[j] * estimator)**2) for j in range(N)])\n",
    "        Onsager_term = np.array([np.mean (delta[j]**2 * derivative) for j in range(N)])\n",
    "        \n",
    "        next_step = np.sqrt(1 / N) * Y.T @ estimator - Onsager_term * previous_estimator\n",
    "        kappa = snr * np.mean(estimator**2) \n",
    "            \n",
    "        previous_estimator = np.copy(estimator)\n",
    "        estimator, derivative = denoiser_and_derivative(next_step, kappa, snr, prior = prior)\n",
    "        \n",
    "        step_difference = np.mean((estimator-previous_estimator)**2)\n",
    "        \n",
    "        if (timestep > 2) and (step_difference < precision):\n",
    "            converged = True\n",
    "            break\n",
    "            \n",
    "    if not converged:\n",
    "        print(\"AMP didn't converge!\")\n",
    "    \n",
    "    return estimator"
   ]
  },
  {
   "cell_type": "markdown",
   "id": "3d5b96bb",
   "metadata": {
    "id": "3d5b96bb"
   },
   "source": [
    "Now we implement the denoiser functions. Note that with inhomegenous noise both parameters b and a are vectors"
   ]
  },
  {
   "cell_type": "code",
   "execution_count": 624,
   "id": "995ceee6",
   "metadata": {
    "id": "995ceee6"
   },
   "outputs": [],
   "source": [
    "def denoiser_and_derivative(to_denoise, kappa, snr, *, prior):\n",
    "    if(prior == 'gaussian'):\n",
    "        return to_denoise * snr /(1 + kappa), snr / (1 + kappa) \n",
    "    elif prior == 'rademacher':\n",
    "        return np.tanh(snr * to_denoise), snr * (1-np.tanh(snr * to_denoise)**2)"
   ]
  },
  {
   "cell_type": "markdown",
   "id": "37b5cf45",
   "metadata": {
    "id": "37b5cf45"
   },
   "source": [
    "We now calculate the average performance of AMP over several runs"
   ]
  },
  {
   "cell_type": "code",
   "execution_count": 625,
   "id": "e94c9c16",
   "metadata": {
    "id": "e94c9c16"
   },
   "outputs": [],
   "source": [
    "def get_mse(truth, estimate):\n",
    "    return np.min([np.mean((truth - estimate)**2), np.mean((truth + estimate)**2)]) #It is impossible to learn the sign\n",
    "\n",
    "def get_averaged_performance(seeds, dimension, initialisation = 'uninformed', *, prior, delta):\n",
    "    mse = []\n",
    "    N = dimension\n",
    "    for _ in range(seeds):\n",
    "        init = 1e-3 * np.random.normal(0,1,(N,1)) # default initialisation is uninformed\n",
    "        # Generate an instance\n",
    "        truth, Y = get_instance(dimension = dimension, \n",
    "                             prior = prior, \n",
    "                             delta = delta)\n",
    "        \n",
    "        # In informed initialisation starts close to signal\n",
    "        if initialisation == 'informed':\n",
    "            init += truth \n",
    "        elif initialisation == 'spectral':\n",
    "            _, init = np.linalg.eigh(Y)[N-1]\n",
    "            init *= np.sqrt(len(truth))\n",
    "       \n",
    "        estimate = iterate_amp(init = init, \n",
    "                                 prior = prior, \n",
    "                                 Y = Y, \n",
    "                                 delta = delta)\n",
    "        mse.append(get_mse(truth, estimate))\n",
    "        \n",
    "    return np.mean(mse)"
   ]
  },
  {
   "cell_type": "code",
   "execution_count": 626,
   "id": "c8a3ac28",
   "metadata": {
    "id": "c8a3ac28"
   },
   "outputs": [],
   "source": [
    "def data_amp(seeds, dimension, initialisation = 'uninformed', *, delta_collection, prior):\n",
    "    \n",
    "    data = {'parameter': [], 'mse': []}\n",
    "    for delta in delta_collection:\n",
    "        parameter = delta[0][0]\n",
    "        print(\"Computing with parameter = {}\".format(parameter))\n",
    "        \n",
    "        mse = get_averaged_performance(seeds = seeds,dimension = dimension, \n",
    "                                            initialisation = initialisation, \n",
    "                                            prior = prior, \n",
    "                                            delta = delta)\n",
    "        \n",
    "        data['parameter'].append(parameter)\n",
    "        data['mse'].append(mse)\n",
    "\n",
    "    return data"
   ]
  },
  {
   "cell_type": "code",
   "execution_count": 627,
   "id": "909e8ec2",
   "metadata": {
    "id": "909e8ec2"
   },
   "outputs": [],
   "source": [
    "def create_two_blocks_collection(dimension, *, start, end, points, first_size, diag_scalar):\n",
    "    N = dimension\n",
    "    parameter_range = np.linspace(start, end, points)\n",
    "    delta_collection = []\n",
    "    for parameter in parameter_range:\n",
    "        delta_collection.append(create_two_blocks(N, first_size, parameter, parameter, diag_scalar * parameter))\n",
    "    return np.array(delta_collection)\n"
   ]
  },
  {
   "cell_type": "markdown",
   "id": "vQQVwujS5_xX",
   "metadata": {
    "id": "vQQVwujS5_xX"
   },
   "source": [
    "Code to solve the variational problem"
   ]
  },
  {
   "cell_type": "code",
   "execution_count": 628,
   "id": "md4MoGX454zf",
   "metadata": {
    "id": "md4MoGX454zf"
   },
   "outputs": [],
   "source": [
    "def Gibbs(qtilde,x0,z):\n",
    "  p = 0.5\n",
    "  h = qtilde * x0 + sqrt(qtilde) * z\n",
    "  return tanh(h)/(1 + exp(qtilde/2)*(1-2*p)/(2*p * cosh(h) ))\n",
    "\n",
    "def Gauss(z):\n",
    "  return exp(-z*z/2)/sqrt(2*pi)\n",
    "\n",
    "def ExpectGibbsRad(qtilde):\n",
    "  p = 0.5\n",
    "  BOUNDS = 10\n",
    "  #x0 = 1  \n",
    "  av_fp = lambda z: Gauss(z) * p * (Gibbs(qtilde,1,z))**2\n",
    "  av_plus, err = integrate.quad(av_fp, -BOUNDS, BOUNDS)\n",
    "  #x0 = -1  \n",
    "  av_fm = lambda z: Gauss(z) * p * (Gibbs(qtilde,-1,z))**2\n",
    "  av_minus, err = integrate.quad(av_fm, -BOUNDS, BOUNDS)\n",
    "  #x0 = 0\n",
    "  av_fz = lambda z: Gauss(z) * (1-2*p) * (Gibbs(qtilde,0,z))**2\n",
    "  av_zero, err= integrate.quad(av_fz, -BOUNDS, BOUNDS)\n",
    "  return av_plus + av_zero + av_minus\n",
    "\n",
    "def ExpectGibbs(qtilde,prior):\n",
    "  if(prior == 'gaussian'):\n",
    "        return 1 - 1/(qtilde + 1)\n",
    "  elif prior == 'rademacher':\n",
    "        return ExpectGibbsRad(qtilde)\n",
    "\n",
    "def iterate(Qtilde1,Qtilde2,rho1,rho2,Delta_11,Delta_12,Delta_22,prior):\n",
    "  damping = 0.2\n",
    "  term1 =  ExpectGibbs(Qtilde1,prior)\n",
    "  term2 = ExpectGibbs(Qtilde2,prior)\n",
    "  newQtilde1 = (rho1/Delta_11**2) * term1 + (rho2/Delta_12**2) * term2\n",
    "  newQtilde2 = (rho1/Delta_12**2) * term1 + (rho2/Delta_22**2) * term2\n",
    "  return (1-damping)*newQtilde1 + damping*Qtilde1, (1-damping)*newQtilde2 + damping*Qtilde2, np.sqrt((newQtilde1-Qtilde1)**2 + (newQtilde2-Qtilde2)**2)\n",
    "\n",
    "def Solve_Q(Qtilde1,Qtilde2,rho1,rho2,Delta_11,Delta_12,Delta_22,prior):\n",
    "    convergence = 1000\n",
    "    while (convergence > 1e-3):\n",
    "        Qtilde1, Qtilde2, convergence = iterate(Qtilde1,Qtilde2, rho1, rho2, Delta_11, Delta_12, Delta_22, prior)\n",
    "        \n",
    "    return Qtilde1, Qtilde2"
   ]
  },
  {
   "cell_type": "code",
   "execution_count": 629,
   "id": "dsXro6n39cv2",
   "metadata": {
    "id": "dsXro6n39cv2"
   },
   "outputs": [],
   "source": [
    "def visualize (data_amp, data_optimal):\n",
    "    fig, ax = plt.subplots(figsize=(12,10))\n",
    "    plt.plot(data_optimal['parameter'], data_optimal['mse'], \n",
    "         '-y', label='Predicted MMSE', color='blue')\n",
    "    plt.plot(data_amp['parameter'], data_amp['mse'], \n",
    "         '.', label='AMP', color='red')\n",
    "    plt.xlabel('p')\n",
    "    plt.ylabel('mse')\n",
    "    plt.legend()"
   ]
  },
  {
   "cell_type": "markdown",
   "id": "tTL_Kxbq9gPW",
   "metadata": {
    "id": "tTL_Kxbq9gPW"
   },
   "source": [
    "Generating the MMSE"
   ]
  },
  {
   "cell_type": "code",
   "execution_count": 630,
   "id": "Ozx-2Xqp5-pn",
   "metadata": {
    "id": "Ozx-2Xqp5-pn"
   },
   "outputs": [],
   "source": [
    "def optimal_curve(start, end, points, diag_scalar,prior):\n",
    "\n",
    "    rho1, rho2 = 0.5, 0.5\n",
    "\n",
    "    MMSEVec = []\n",
    "    paramvec = []\n",
    "\n",
    "    param_range = np.linspace(start, end, points)\n",
    "\n",
    "    for param in param_range:\n",
    "      Delta11 = param\n",
    "      Delta12 = param\n",
    "      Delta22 = (diag_scalar*param)\n",
    "    \n",
    "      Qtilde1 = 1\n",
    "      Qtilde2 = 1\n",
    "    \n",
    "      Qtilde1, Qtilde2 = Solve_Q(Qtilde1, Qtilde2, rho1, rho2, Delta11, Delta12, Delta22,prior)\n",
    "      MMSEVec.append(1 - np.sqrt(rho1**2 * ExpectGibbs(Qtilde1,prior)**2 + \n",
    "                           2 * rho1 * rho2 *  ExpectGibbs(Qtilde1,prior) * ExpectGibbs(Qtilde2,prior) + \n",
    "                           rho2**2 * ExpectGibbs(Qtilde2,prior)**2))\n",
    "      paramvec.append(param)\n",
    "    \n",
    "    return {'parameter': paramvec, 'mse': MMSEVec}\n"
   ]
  },
  {
   "cell_type": "code",
   "execution_count": 631,
   "id": "gWxxwo_K8rkm",
   "metadata": {
    "colab": {
     "base_uri": "https://localhost:8080/",
     "height": 1000
    },
    "id": "gWxxwo_K8rkm",
    "outputId": "50c4564f-dfef-447c-ae8a-ed372679e297"
   },
   "outputs": [
    {
     "name": "stdout",
     "output_type": "stream",
     "text": [
      "Computing with parameter = 0.05\n",
      "Computing with parameter = 0.07551020408163266\n",
      "Computing with parameter = 0.10102040816326531\n",
      "Computing with parameter = 0.12653061224489798\n",
      "Computing with parameter = 0.1520408163265306\n",
      "Computing with parameter = 0.17755102040816328\n",
      "Computing with parameter = 0.2030612244897959\n",
      "Computing with parameter = 0.2285714285714286\n",
      "AMP didn't converge!\n",
      "Computing with parameter = 0.2540816326530612\n",
      "AMP didn't converge!\n",
      "Computing with parameter = 0.2795918367346939\n",
      "AMP didn't converge!\n",
      "AMP didn't converge!\n",
      "AMP didn't converge!\n",
      "Computing with parameter = 0.3051020408163265\n",
      "AMP didn't converge!\n",
      "AMP didn't converge!\n",
      "AMP didn't converge!\n",
      "Computing with parameter = 0.3306122448979592\n",
      "AMP didn't converge!\n",
      "AMP didn't converge!\n",
      "AMP didn't converge!\n",
      "Computing with parameter = 0.35612244897959183\n",
      "AMP didn't converge!\n",
      "AMP didn't converge!\n",
      "AMP didn't converge!\n",
      "AMP didn't converge!\n",
      "Computing with parameter = 0.38163265306122446\n",
      "AMP didn't converge!\n",
      "AMP didn't converge!\n",
      "AMP didn't converge!\n",
      "AMP didn't converge!\n",
      "Computing with parameter = 0.40714285714285714\n",
      "AMP didn't converge!\n",
      "AMP didn't converge!\n",
      "AMP didn't converge!\n",
      "AMP didn't converge!\n",
      "Computing with parameter = 0.4326530612244898\n",
      "AMP didn't converge!\n",
      "AMP didn't converge!\n",
      "AMP didn't converge!\n",
      "AMP didn't converge!\n",
      "AMP didn't converge!\n",
      "AMP didn't converge!\n",
      "Computing with parameter = 0.45816326530612245\n",
      "AMP didn't converge!\n",
      "AMP didn't converge!\n",
      "AMP didn't converge!\n",
      "AMP didn't converge!\n",
      "AMP didn't converge!\n",
      "AMP didn't converge!\n",
      "AMP didn't converge!\n",
      "Computing with parameter = 0.4836734693877551\n",
      "AMP didn't converge!\n",
      "AMP didn't converge!\n",
      "AMP didn't converge!\n",
      "AMP didn't converge!\n",
      "AMP didn't converge!\n",
      "AMP didn't converge!\n",
      "Computing with parameter = 0.5091836734693878\n",
      "AMP didn't converge!\n",
      "AMP didn't converge!\n",
      "AMP didn't converge!\n",
      "AMP didn't converge!\n",
      "AMP didn't converge!\n",
      "AMP didn't converge!\n",
      "Computing with parameter = 0.5346938775510205\n",
      "AMP didn't converge!\n",
      "AMP didn't converge!\n",
      "AMP didn't converge!\n",
      "AMP didn't converge!\n",
      "AMP didn't converge!\n",
      "AMP didn't converge!\n",
      "AMP didn't converge!\n",
      "Computing with parameter = 0.5602040816326531\n",
      "AMP didn't converge!\n",
      "AMP didn't converge!\n",
      "AMP didn't converge!\n",
      "AMP didn't converge!\n",
      "AMP didn't converge!\n",
      "AMP didn't converge!\n",
      "AMP didn't converge!\n",
      "Computing with parameter = 0.5857142857142857\n",
      "AMP didn't converge!\n",
      "AMP didn't converge!\n",
      "AMP didn't converge!\n",
      "AMP didn't converge!\n",
      "AMP didn't converge!\n",
      "AMP didn't converge!\n",
      "AMP didn't converge!\n",
      "Computing with parameter = 0.6112244897959185\n",
      "AMP didn't converge!\n",
      "AMP didn't converge!\n",
      "AMP didn't converge!\n",
      "AMP didn't converge!\n",
      "AMP didn't converge!\n",
      "AMP didn't converge!\n",
      "AMP didn't converge!\n",
      "Computing with parameter = 0.6367346938775511\n",
      "AMP didn't converge!\n",
      "AMP didn't converge!\n",
      "AMP didn't converge!\n",
      "AMP didn't converge!\n",
      "AMP didn't converge!\n",
      "AMP didn't converge!\n",
      "AMP didn't converge!\n",
      "Computing with parameter = 0.6622448979591837\n",
      "AMP didn't converge!\n",
      "AMP didn't converge!\n",
      "AMP didn't converge!\n",
      "AMP didn't converge!\n",
      "AMP didn't converge!\n",
      "AMP didn't converge!\n",
      "AMP didn't converge!\n",
      "Computing with parameter = 0.6877551020408164\n",
      "AMP didn't converge!\n",
      "AMP didn't converge!\n",
      "AMP didn't converge!\n",
      "AMP didn't converge!\n",
      "AMP didn't converge!\n",
      "AMP didn't converge!\n",
      "AMP didn't converge!\n",
      "Computing with parameter = 0.713265306122449\n",
      "AMP didn't converge!\n",
      "AMP didn't converge!\n",
      "AMP didn't converge!\n",
      "AMP didn't converge!\n",
      "AMP didn't converge!\n",
      "AMP didn't converge!\n",
      "AMP didn't converge!\n",
      "Computing with parameter = 0.7387755102040817\n",
      "AMP didn't converge!\n",
      "AMP didn't converge!\n",
      "AMP didn't converge!\n",
      "AMP didn't converge!\n",
      "AMP didn't converge!\n",
      "AMP didn't converge!\n",
      "AMP didn't converge!\n",
      "Computing with parameter = 0.7642857142857143\n",
      "AMP didn't converge!\n",
      "AMP didn't converge!\n",
      "AMP didn't converge!\n",
      "AMP didn't converge!\n",
      "AMP didn't converge!\n",
      "AMP didn't converge!\n",
      "AMP didn't converge!\n",
      "Computing with parameter = 0.789795918367347\n",
      "AMP didn't converge!\n",
      "AMP didn't converge!\n",
      "AMP didn't converge!\n",
      "AMP didn't converge!\n",
      "AMP didn't converge!\n",
      "AMP didn't converge!\n",
      "AMP didn't converge!\n",
      "Computing with parameter = 0.8153061224489797\n",
      "AMP didn't converge!\n",
      "AMP didn't converge!\n",
      "AMP didn't converge!\n",
      "AMP didn't converge!\n",
      "AMP didn't converge!\n",
      "AMP didn't converge!\n",
      "Computing with parameter = 0.8408163265306123\n",
      "AMP didn't converge!\n",
      "AMP didn't converge!\n",
      "AMP didn't converge!\n",
      "AMP didn't converge!\n",
      "AMP didn't converge!\n",
      "AMP didn't converge!\n",
      "AMP didn't converge!\n",
      "Computing with parameter = 0.866326530612245\n",
      "AMP didn't converge!\n",
      "AMP didn't converge!\n",
      "AMP didn't converge!\n",
      "AMP didn't converge!\n",
      "AMP didn't converge!\n",
      "AMP didn't converge!\n",
      "AMP didn't converge!\n",
      "Computing with parameter = 0.8918367346938776\n",
      "AMP didn't converge!\n",
      "AMP didn't converge!\n",
      "AMP didn't converge!\n",
      "AMP didn't converge!\n",
      "AMP didn't converge!\n",
      "AMP didn't converge!\n",
      "AMP didn't converge!\n",
      "Computing with parameter = 0.9173469387755102\n",
      "AMP didn't converge!\n",
      "AMP didn't converge!\n",
      "AMP didn't converge!\n",
      "AMP didn't converge!\n",
      "AMP didn't converge!\n",
      "AMP didn't converge!\n",
      "AMP didn't converge!\n",
      "Computing with parameter = 0.942857142857143\n",
      "AMP didn't converge!\n",
      "AMP didn't converge!\n",
      "AMP didn't converge!\n",
      "AMP didn't converge!\n",
      "AMP didn't converge!\n",
      "AMP didn't converge!\n",
      "Computing with parameter = 0.9683673469387756\n",
      "AMP didn't converge!\n",
      "AMP didn't converge!\n",
      "AMP didn't converge!\n",
      "Computing with parameter = 0.9938775510204082\n",
      "AMP didn't converge!\n",
      "AMP didn't converge!\n",
      "AMP didn't converge!\n",
      "AMP didn't converge!\n",
      "Computing with parameter = 1.019387755102041\n",
      "Computing with parameter = 1.0448979591836736\n",
      "Computing with parameter = 1.0704081632653062\n",
      "AMP didn't converge!\n",
      "AMP didn't converge!\n",
      "Computing with parameter = 1.0959183673469388\n",
      "AMP didn't converge!\n",
      "Computing with parameter = 1.1214285714285714\n",
      "Computing with parameter = 1.146938775510204\n",
      "Computing with parameter = 1.172448979591837\n",
      "Computing with parameter = 1.1979591836734695\n",
      "Computing with parameter = 1.2234693877551022\n",
      "Computing with parameter = 1.2489795918367348\n",
      "Computing with parameter = 1.2744897959183674\n",
      "Computing with parameter = 1.3\n"
     ]
    },
    {
     "data": {
      "image/png": "[encoded data removed]",
      "text/plain": [
       "<Figure size 864x720 with 1 Axes>"
      ]
     },
     "metadata": {
      "needs_background": "light"
     },
     "output_type": "display_data"
    }
   ],
   "source": [
    "dimension = 100\n",
    "start = 0.05\n",
    "end = 1.3\n",
    "points = 50\n",
    "delta_collection = create_two_blocks_collection(dimension = dimension, start = start, end = end, points = points, \n",
    "                                         first_size = dimension//2, diag_scalar = 2)\n",
    "amp_curve = data_amp(initialisation = 'uninformed', seeds = 7, dimension = dimension,\n",
    "                                   delta_collection = delta_collection, prior = 'rademacher')\n",
    "visualize(data_amp = amp_curve, data_optimal = \n",
    "          optimal_curve(start = start, end = end, points = 70, diag_scalar = 2,prior = 'rademacher'))"
   ]
  }
 ],
 "metadata": {
  "colab": {
   "collapsed_sections": [],
   "name": "AMP_inhomegenous_noise_Justin.ipynb",
   "provenance": []
  },
  "kernelspec": {
   "display_name": "Python 3",
   "language": "python",
   "name": "python3"
  },
  "language_info": {
   "codemirror_mode": {
    "name": "ipython",
    "version": 3
   },
   "file_extension": ".py",
   "mimetype": "text/x-python",
   "name": "python",
   "nbconvert_exporter": "python",
   "pygments_lexer": "ipython3",
   "version": "3.8.8"
  }
 },
 "nbformat": 4,
 "nbformat_minor": 5
}
